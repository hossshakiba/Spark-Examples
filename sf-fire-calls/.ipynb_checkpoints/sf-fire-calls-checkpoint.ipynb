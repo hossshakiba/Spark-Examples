{
 "cells": [
  {
   "cell_type": "code",
   "execution_count": 1,
   "id": "919158a5",
   "metadata": {},
   "outputs": [
    {
     "name": "stderr",
     "output_type": "stream",
     "text": [
      "21/08/20 19:43:21 WARN Utils: Your hostname, Hoss-Mac.local resolves to a loopback address: 127.0.0.1, but we couldn't find any external IP address!\n",
      "21/08/20 19:43:21 WARN Utils: Set SPARK_LOCAL_IP if you need to bind to another address\n",
      "WARNING: An illegal reflective access operation has occurred\n",
      "WARNING: Illegal reflective access by org.apache.spark.unsafe.Platform (file:/Library/Frameworks/Python.framework/Versions/3.9/lib/python3.9/site-packages/pyspark/jars/spark-unsafe_2.12-3.1.2.jar) to constructor java.nio.DirectByteBuffer(long,int)\n",
      "WARNING: Please consider reporting this to the maintainers of org.apache.spark.unsafe.Platform\n",
      "WARNING: Use --illegal-access=warn to enable warnings of further illegal reflective access operations\n",
      "WARNING: All illegal access operations will be denied in a future release\n",
      "21/08/20 19:43:22 WARN NativeCodeLoader: Unable to load native-hadoop library for your platform... using builtin-java classes where applicable\n",
      "Using Spark's default log4j profile: org/apache/spark/log4j-defaults.properties\n",
      "Setting default log level to \"WARN\".\n",
      "To adjust logging level use sc.setLogLevel(newLevel). For SparkR, use setLogLevel(newLevel).\n",
      "21/08/20 19:43:23 WARN Utils: Service 'SparkUI' could not bind on port 4040. Attempting port 4041.\n"
     ]
    }
   ],
   "source": [
    "from pyspark.sql import SparkSession\n",
    "from pyspark.sql.functions import *\n",
    "from pyspark.sql.types import *\n",
    "\n",
    "\n",
    "spark = (SparkSession\n",
    ".builder\n",
    ".appName(\"sc-fire-calls\")\n",
    ".getOrCreate()\n",
    ")\n"
   ]
  },
  {
   "cell_type": "code",
   "execution_count": 2,
   "id": "1627ebd9",
   "metadata": {},
   "outputs": [],
   "source": [
    "# Programmatic way to define a schema\n",
    "\n",
    "fire_schema = StructType([StructField('CallNumber', IntegerType(), True),\n",
    "StructField('UnitID', StringType(), True),\n",
    "StructField('IncidentNumber', IntegerType(), True),\n",
    "StructField('CallType', StringType(), True),\n",
    "StructField('CallDate', StringType(), True),\n",
    "StructField('WatchDate', StringType(), True),\n",
    "StructField('CallFinalDisposition', StringType(), True),\n",
    "StructField('AvailableDtTm', StringType(), True),\n",
    "StructField('Address', StringType(), True),\n",
    "StructField('City', StringType(), True),\n",
    "StructField('Zipcode', IntegerType(), True),\n",
    "StructField('Battalion', StringType(), True),\n",
    "StructField('StationArea', StringType(), True),\n",
    "StructField('Box', StringType(), True),\n",
    "StructField('OriginalPriority', StringType(), True),\n",
    "StructField('Priority', StringType(), True),\n",
    "StructField('FinalPriority', IntegerType(), True),\n",
    "StructField('ALSUnit', BooleanType(), True),\n",
    "StructField('CallTypeGroup', StringType(), True),\n",
    "StructField('NumAlarms', IntegerType(), True),\n",
    "StructField('UnitType', StringType(), True),\n",
    "StructField('UnitSequenceInCallDispatch', IntegerType(), True),\n",
    "StructField('FirePreventionDistrict', StringType(), True),\n",
    "StructField('SupervisorDistrict', StringType(), True),\n",
    "StructField('Neighborhood', StringType(), True),\n",
    "StructField('Location', StringType(), True),\n",
    "StructField('RowID', StringType(), True),\n",
    "StructField('Delay', FloatType(), True)])\n"
   ]
  },
  {
   "cell_type": "code",
   "execution_count": 3,
   "id": "dd07ba00",
   "metadata": {},
   "outputs": [],
   "source": [
    "# Use the DataFrameReader interface to read a CSV file\n",
    "sf_fire_file = \"sf-fire-calls.csv\"\n",
    "fire_df = spark.read.csv(sf_fire_file, header=True, schema=fire_schema)"
   ]
  },
  {
   "cell_type": "code",
   "execution_count": 4,
   "id": "513d38f2",
   "metadata": {},
   "outputs": [
    {
     "name": "stderr",
     "output_type": "stream",
     "text": [
      "[Stage 1:=============================================>         (166 + 4) / 200]\r"
     ]
    },
    {
     "name": "stdout",
     "output_type": "stream",
     "text": [
      "+-------------------+\n",
      "|Distinct call types|\n",
      "+-------------------+\n",
      "|                 29|\n",
      "+-------------------+\n",
      "\n"
     ]
    },
    {
     "name": "stderr",
     "output_type": "stream",
     "text": [
      "\r",
      "[Stage 1:=====================================================> (196 + 4) / 200]\r",
      "\r",
      "                                                                                \r"
     ]
    }
   ],
   "source": [
    "# Find distinct call types count\n",
    "distinct_call_types_count = fire_df.select(\"CallType\")\\\n",
    ".where(col(\"CallType\").isNotNull())\\\n",
    ".agg(countDistinct(\"CallType\").alias(\"Distinct call types\"))\\\n",
    ".show()"
   ]
  },
  {
   "cell_type": "code",
   "execution_count": 5,
   "id": "02b9b36c",
   "metadata": {},
   "outputs": [
    {
     "name": "stdout",
     "output_type": "stream",
     "text": [
      "+--------------------------------------------+\n",
      "|CallType                                    |\n",
      "+--------------------------------------------+\n",
      "|Elevator / Escalator Rescue                 |\n",
      "|Marine Fire                                 |\n",
      "|Aircraft Emergency                          |\n",
      "|Administrative                              |\n",
      "|Alarms                                      |\n",
      "|Odor (Strange / Unknown)                    |\n",
      "|Citizen Assist / Service Call               |\n",
      "|HazMat                                      |\n",
      "|Watercraft in Distress                      |\n",
      "|Explosion                                   |\n",
      "|Oil Spill                                   |\n",
      "|Vehicle Fire                                |\n",
      "|Suspicious Package                          |\n",
      "|Extrication / Entrapped (Machinery, Vehicle)|\n",
      "|Other                                       |\n",
      "|Outside Fire                                |\n",
      "|Traffic Collision                           |\n",
      "|Assist Police                               |\n",
      "|Gas Leak (Natural and LP Gases)             |\n",
      "|Water Rescue                                |\n",
      "+--------------------------------------------+\n",
      "only showing top 20 rows\n",
      "\n"
     ]
    }
   ],
   "source": [
    "# Find distinct call types\n",
    "distinct_call_types = fire_df.select(\"CallType\")\\\n",
    ".where(col(\"CallType\").isNotNull())\\\n",
    ".distinct()\\\n",
    ".show(truncate=False)"
   ]
  },
  {
   "cell_type": "code",
   "execution_count": 6,
   "id": "6d8843b4",
   "metadata": {},
   "outputs": [],
   "source": [
    "# Convert CallDate to Date Type from String and Sort the records by Call Date\n",
    "new_fire_df = fire_df.withColumn(\"Call Date\", to_date(\"CallDate\", \"MM/dd/yyyy\")).drop(\"CallDate\")"
   ]
  },
  {
   "cell_type": "code",
   "execution_count": 7,
   "id": "fecf4501",
   "metadata": {
    "scrolled": true
   },
   "outputs": [
    {
     "name": "stderr",
     "output_type": "stream",
     "text": [
      "[Stage 12:================================>                     (119 + 4) / 200]\r"
     ]
    },
    {
     "name": "stdout",
     "output_type": "stream",
     "text": [
      "+----------------+---------------+-----+\n",
      "|CallDate (month)|Neighborhood   |count|\n",
      "+----------------+---------------+-----+\n",
      "|8               |Tenderloin     |556  |\n",
      "|9               |Tenderloin     |468  |\n",
      "|10              |Tenderloin     |462  |\n",
      "|11              |Tenderloin     |449  |\n",
      "|7               |Tenderloin     |448  |\n",
      "|6               |Tenderloin     |443  |\n",
      "|5               |Tenderloin     |406  |\n",
      "|8               |Mission        |400  |\n",
      "|2               |Tenderloin     |367  |\n",
      "|10              |South of Market|356  |\n",
      "|7               |Mission        |355  |\n",
      "|1               |Tenderloin     |347  |\n",
      "|10              |Mission        |346  |\n",
      "|9               |Mission        |343  |\n",
      "|8               |South of Market|342  |\n",
      "|7               |South of Market|342  |\n",
      "|12              |Tenderloin     |335  |\n",
      "|4               |Tenderloin     |330  |\n",
      "|11              |Mission        |329  |\n",
      "|3               |Tenderloin     |328  |\n",
      "+----------------+---------------+-----+\n",
      "only showing top 20 rows\n",
      "\n"
     ]
    },
    {
     "name": "stderr",
     "output_type": "stream",
     "text": [
      "\r",
      "[Stage 12:=============================================>        (169 + 4) / 200]\r",
      "\r",
      "                                                                                \r"
     ]
    }
   ],
   "source": [
    "# Count calls grouped by month and neighborhood ordered by call count\n",
    "new_fire_df.withColumn(\"CallDate (month)\", month(\"Call Date\"))\\\n",
    ".where(col(\"CallDate (month)\").isNotNull())\\\n",
    ".groupBy(\"CallDate (month)\", \"Neighborhood\")\\\n",
    ".count()\\\n",
    ".orderBy(\"count\", \"CallDate (month)\", ascending=False)\\\n",
    ".show(truncate=False)\n"
   ]
  },
  {
   "cell_type": "code",
   "execution_count": 8,
   "id": "39288e32",
   "metadata": {},
   "outputs": [
    {
     "name": "stdout",
     "output_type": "stream",
     "text": [
      "+-------------------------------+-----+\n",
      "|CallType                       |count|\n",
      "+-------------------------------+-----+\n",
      "|Medical Incident               |1670 |\n",
      "|Structure Fire                 |469  |\n",
      "|Alarms                         |291  |\n",
      "|Traffic Collision              |93   |\n",
      "|Citizen Assist / Service Call  |37   |\n",
      "|Other                          |33   |\n",
      "|Outside Fire                   |19   |\n",
      "|Vehicle Fire                   |13   |\n",
      "|Electrical Hazard              |11   |\n",
      "|Water Rescue                   |11   |\n",
      "|Gas Leak (Natural and LP Gases)|10   |\n",
      "|Odor (Strange / Unknown)       |9    |\n",
      "|Elevator / Escalator Rescue    |9    |\n",
      "|Smoke Investigation (Outside)  |5    |\n",
      "|Train / Rail Incident          |4    |\n",
      "|Aircraft Emergency             |3    |\n",
      "|Industrial Accidents           |3    |\n",
      "|Fuel Spill                     |3    |\n",
      "|HazMat                         |2    |\n",
      "|Explosion                      |1    |\n",
      "+-------------------------------+-----+\n",
      "\n"
     ]
    }
   ],
   "source": [
    "# Count CallTypes per month == February\n",
    "new_fire_df.select(\"CallType\")\\\n",
    ".where(col(\"CallType\").isNotNull() & (month(\"Call Date\")==2))\\\n",
    ".groupBy(\"CallType\")\\\n",
    ".count()\\\n",
    ".orderBy(\"count\", ascending=False)\\\n",
    ".show(truncate=False)"
   ]
  },
  {
   "cell_type": "code",
   "execution_count": 9,
   "id": "f23a8bd7",
   "metadata": {},
   "outputs": [
    {
     "data": {
      "text/plain": [
       "['CallNumber',\n",
       " 'UnitID',\n",
       " 'IncidentNumber',\n",
       " 'CallType',\n",
       " 'WatchDate',\n",
       " 'CallFinalDisposition',\n",
       " 'AvailableDtTm',\n",
       " 'Address',\n",
       " 'City',\n",
       " 'Zipcode',\n",
       " 'Battalion',\n",
       " 'StationArea',\n",
       " 'Box',\n",
       " 'OriginalPriority',\n",
       " 'Priority',\n",
       " 'FinalPriority',\n",
       " 'ALSUnit',\n",
       " 'CallTypeGroup',\n",
       " 'NumAlarms',\n",
       " 'UnitType',\n",
       " 'UnitSequenceInCallDispatch',\n",
       " 'FirePreventionDistrict',\n",
       " 'SupervisorDistrict',\n",
       " 'Neighborhood',\n",
       " 'Location',\n",
       " 'RowID',\n",
       " 'Delay',\n",
       " 'CallDate']"
      ]
     },
     "execution_count": 9,
     "metadata": {},
     "output_type": "execute_result"
    }
   ],
   "source": [
    "# Rename column `Call Date` to `CallDate`\n",
    "renamed_fire_df = new_fire_df.withColumnRenamed(\"Call Date\", \"CallDate\")\n",
    "\n",
    "renamed_fire_df.columns"
   ]
  },
  {
   "cell_type": "code",
   "execution_count": 10,
   "id": "8179e814",
   "metadata": {},
   "outputs": [
    {
     "name": "stdout",
     "output_type": "stream",
     "text": [
      "+-------------------------------+\n",
      "|CallType                       |\n",
      "+-------------------------------+\n",
      "|Elevator / Escalator Rescue    |\n",
      "|Aircraft Emergency             |\n",
      "|Alarms                         |\n",
      "|Odor (Strange / Unknown)       |\n",
      "|Citizen Assist / Service Call  |\n",
      "|HazMat                         |\n",
      "|Oil Spill                      |\n",
      "|Vehicle Fire                   |\n",
      "|Suspicious Package             |\n",
      "|Other                          |\n",
      "|Outside Fire                   |\n",
      "|Traffic Collision              |\n",
      "|Gas Leak (Natural and LP Gases)|\n",
      "|Water Rescue                   |\n",
      "|Electrical Hazard              |\n",
      "|Structure Fire                 |\n",
      "|Industrial Accidents           |\n",
      "|Medical Incident               |\n",
      "|Fuel Spill                     |\n",
      "|Smoke Investigation (Outside)  |\n",
      "+-------------------------------+\n",
      "only showing top 20 rows\n",
      "\n"
     ]
    }
   ],
   "source": [
    "# What were all the different types of fire calls in 2002 ? \n",
    "new_fire_df.select(\"CallType\").where(year(\"Call Date\") == 2002).distinct().show(truncate=False)"
   ]
  },
  {
   "cell_type": "code",
   "execution_count": 11,
   "id": "4d6a0366",
   "metadata": {},
   "outputs": [
    {
     "name": "stdout",
     "output_type": "stream",
     "text": [
      "+-----+-----+\n",
      "|month|count|\n",
      "+-----+-----+\n",
      "|  Dec|  721|\n",
      "|  Oct|  686|\n",
      "|  Nov|  683|\n",
      "|  Feb|  681|\n",
      "|  Aug|  677|\n",
      "|  Sep|  671|\n",
      "|  Jul|  669|\n",
      "|  Mar|  665|\n",
      "|  Jun|  660|\n",
      "|  Apr|  630|\n",
      "|  May|  621|\n",
      "|  Jan|  491|\n",
      "+-----+-----+\n",
      "\n"
     ]
    }
   ],
   "source": [
    "# What months within the year 2002 saw the highest number of fire calls ?\n",
    "new_fire_df.select(date_format(\"Call Date\", \"MMM\").alias(\"month\"))\\\n",
    ".where(col(\"Call Date\").isNotNull() & (year(\"Call Date\")==2002))\\\n",
    ".groupBy(\"month\")\\\n",
    ".count()\\\n",
    ".orderBy(\"count\", ascending=False)\\\n",
    ".show()\n"
   ]
  },
  {
   "cell_type": "code",
   "execution_count": 12,
   "id": "921cccda",
   "metadata": {},
   "outputs": [
    {
     "data": {
      "text/plain": [
       "Row(Neighborhood='Tenderloin', count=1096)"
      ]
     },
     "execution_count": 12,
     "metadata": {},
     "output_type": "execute_result"
    }
   ],
   "source": [
    "# Which neighborhood is San-Francisco generated the most fire calls in 2009 ?\n",
    "new_fire_df.select(\"Neighborhood\")\\\n",
    ".where(col(\"Neighborhood\").isNotNull() & (year(\"Call Date\")==2009))\\\n",
    ".groupBy(\"Neighborhood\")\\\n",
    ".count()\\\n",
    ".orderBy(\"count\", ascending=False)\\\n",
    ".first()"
   ]
  },
  {
   "cell_type": "code",
   "execution_count": 16,
   "id": "58148d35",
   "metadata": {},
   "outputs": [
    {
     "name": "stdout",
     "output_type": "stream",
     "text": [
      "+-----------------+------------------+\n",
      "|Neighborhood     |sum(Delay)        |\n",
      "+-----------------+------------------+\n",
      "|Inner Sunset     |467.2166685461998 |\n",
      "|Haight Ashbury   |411.6833316683769 |\n",
      "|Lincoln Park     |13.51666659116745 |\n",
      "|Japantown        |232.2333326935768 |\n",
      "|None             |64.50000047683716 |\n",
      "|North Beach      |623.6500024199486 |\n",
      "|Lone Mountain/USF|354.7833339571953 |\n",
      "|Western Addition |1010.3833348155022|\n",
      "|Bernal Heights   |550.3833318948746 |\n",
      "|Mission Bay      |298.39999955892563|\n",
      "+-----------------+------------------+\n",
      "only showing top 10 rows\n",
      "\n"
     ]
    }
   ],
   "source": [
    "# Which neighborhood had the worst response times to filre calls in 2009 ?\n",
    "new_fire_df.select(\"Neighborhood\", \"Delay\")\\\n",
    ".where(col(\"Neighborhood\").isNotNull() & (year(\"Call Date\")==2009))\\\n",
    ".groupBy(\"Neighborhood\")\\\n",
    ".sum()\\\n",
    ".show(10, truncate=False)"
   ]
  },
  {
   "cell_type": "code",
   "execution_count": 19,
   "id": "4e1634a5",
   "metadata": {},
   "outputs": [
    {
     "data": {
      "text/plain": [
       "Row(week_of_year=44, count=199)"
      ]
     },
     "execution_count": 19,
     "metadata": {},
     "output_type": "execute_result"
    }
   ],
   "source": [
    "# Which week in the year 2009 had the most fire calls ?\n",
    "new_fire_df.withColumn(\"week_of_year\", weekofyear(\"Call Date\"))\\\n",
    ".select(\"week_of_year\")\\\n",
    ".where(year(\"Call Date\")==2009)\\\n",
    ".groupBy(\"week_of_year\")\\\n",
    ".count()\\\n",
    ".orderBy(\"count\", ascending=False)\\\n",
    ".first()\n"
   ]
  }
 ],
 "metadata": {
  "kernelspec": {
   "display_name": "Python 3 (ipykernel)",
   "language": "python",
   "name": "python3"
  },
  "language_info": {
   "codemirror_mode": {
    "name": "ipython",
    "version": 3
   },
   "file_extension": ".py",
   "mimetype": "text/x-python",
   "name": "python",
   "nbconvert_exporter": "python",
   "pygments_lexer": "ipython3",
   "version": "3.9.6"
  }
 },
 "nbformat": 4,
 "nbformat_minor": 5
}
